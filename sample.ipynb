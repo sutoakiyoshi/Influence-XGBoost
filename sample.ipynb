{
 "cells": [
  {
   "cell_type": "code",
   "execution_count": 21,
   "id": "d5545e12-31f1-48bf-8e9e-ea6a32da4bf6",
   "metadata": {},
   "outputs": [],
   "source": [
    "# import InfluenceBalancedXGBoost as ibxgb\n",
    "from influenced_xgboost import InfluenceBalancedXGB\n",
    "import pandas as pd\n",
    "import xgboost as xgb\n",
    "from sklearn.model_selection import train_test_split\n",
    "from sklearn.metrics import confusion_matrix\n",
    "import numpy as np\n",
    "# import Dataset as ds"
   ]
  },
  {
   "cell_type": "code",
   "execution_count": null,
   "id": "6ba9421d",
   "metadata": {},
   "outputs": [],
   "source": []
  },
  {
   "cell_type": "code",
   "execution_count": 2,
   "id": "d9be3d96-9a15-49e6-95d8-a254b6c2fb98",
   "metadata": {},
   "outputs": [
    {
     "data": {
      "text/plain": [
       "((252, 7), (252,), (84, 7), (84,))"
      ]
     },
     "execution_count": 2,
     "metadata": {},
     "output_type": "execute_result"
    }
   ],
   "source": [
    "df = pd.read_csv('sample_data.csv')\n",
    "X = df.drop('y',axis=1)\n",
    "y = df.y\n",
    "X_train, X_test,y_train,y_test = train_test_split(X,y,random_state=0)\n",
    "X_train.shape, y_train.shape,X_test.shape,y_test.shape"
   ]
  },
  {
   "cell_type": "code",
   "execution_count": 3,
   "id": "f3aec4e9",
   "metadata": {},
   "outputs": [],
   "source": [
    "X_train, X_test,y_train,y_test = X_train.values, X_test.values, y_train.values, y_test.values"
   ]
  },
  {
   "cell_type": "code",
   "execution_count": 6,
   "id": "7e11ac3f",
   "metadata": {},
   "outputs": [],
   "source": [
    "dtrain = xgb.DMatrix(X_train, label=y_train)\n",
    "dtest =  xgb.DMatrix(X_test, label=y_test)"
   ]
  },
  {
   "cell_type": "code",
   "execution_count": 18,
   "id": "3f2d755b-27b4-4072-b3a8-8dcdcf066107",
   "metadata": {},
   "outputs": [],
   "source": [
    "model = InfluenceBalancedXGB(\n",
    "    n_estimator=100,switch_turn=10\n",
    ")\n",
    "params={\n",
    "    \"objective\": \"binary:logistic\",\n",
    "    \"max_depth\": 5,\n",
    "    \"reg_lambda\": 1,\n",
    "    \"eta\":1,\n",
    "    \"eval_metric\": \"aucpr\"\n",
    "}\n",
    "model.fit(dtrain=dtrain, dtest=dtest,params=params)"
   ]
  },
  {
   "cell_type": "code",
   "execution_count": 22,
   "id": "403db183",
   "metadata": {},
   "outputs": [
    {
     "data": {
      "text/plain": [
       "array([[76,  1],\n",
       "       [ 2,  5]], dtype=int64)"
      ]
     },
     "execution_count": 22,
     "metadata": {},
     "output_type": "execute_result"
    }
   ],
   "source": [
    "predict_label = np.round(model.predict(dtest))\n",
    "confusion_matrix(y_true=y_test, y_pred=predict_label)"
   ]
  },
  {
   "cell_type": "code",
   "execution_count": null,
   "id": "2ce45668-da2a-4c76-b22a-8f7289a4a962",
   "metadata": {},
   "outputs": [],
   "source": []
  },
  {
   "cell_type": "code",
   "execution_count": null,
   "id": "6257c1ba-80f0-4da9-bc66-d82198454c1e",
   "metadata": {},
   "outputs": [],
   "source": []
  },
  {
   "cell_type": "code",
   "execution_count": null,
   "id": "c7545985-df14-4f3b-bc03-524d28ff57b3",
   "metadata": {},
   "outputs": [],
   "source": []
  },
  {
   "cell_type": "code",
   "execution_count": null,
   "id": "e562f869-0bf8-42c0-b0b8-2b478274d568",
   "metadata": {},
   "outputs": [],
   "source": []
  }
 ],
 "metadata": {
  "kernelspec": {
   "display_name": "Python 3 (ipykernel)",
   "language": "python",
   "name": "python3"
  },
  "language_info": {
   "codemirror_mode": {
    "name": "ipython",
    "version": 3
   },
   "file_extension": ".py",
   "mimetype": "text/x-python",
   "name": "python",
   "nbconvert_exporter": "python",
   "pygments_lexer": "ipython3",
   "version": "3.11.7"
  }
 },
 "nbformat": 4,
 "nbformat_minor": 5
}
