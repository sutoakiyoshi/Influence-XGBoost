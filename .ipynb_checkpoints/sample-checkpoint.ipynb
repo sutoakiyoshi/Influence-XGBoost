{
 "cells": [
  {
   "cell_type": "code",
   "execution_count": 5,
   "id": "d5545e12-31f1-48bf-8e9e-ea6a32da4bf6",
   "metadata": {},
   "outputs": [],
   "source": [
    "import InfluenceXGBoost as ixgb\n",
    "import pandas as pd\n",
    "from sklearn.model_selection import train_test_split\n",
    "from sklearn.metrics import confusion_matrix"
   ]
  },
  {
   "cell_type": "code",
   "execution_count": null,
   "id": "e22b02bd-53c7-48ce-9e58-b01ffa48fdc4",
   "metadata": {},
   "outputs": [],
   "source": []
  },
  {
   "cell_type": "code",
   "execution_count": 6,
   "id": "d9be3d96-9a15-49e6-95d8-a254b6c2fb98",
   "metadata": {},
   "outputs": [],
   "source": [
    "df = pd.read_csv('sample_data.csv')\n",
    "X = df.drop('y',axis=1)\n",
    "y = df.y\n",
    "x_train,x_test,y_train,y_test = train_test_split(X,y,random_state=0)"
   ]
  },
  {
   "cell_type": "code",
   "execution_count": 7,
   "id": "3f2d755b-27b4-4072-b3a8-8dcdcf066107",
   "metadata": {},
   "outputs": [],
   "source": [
    "config = {\n",
    "    'max_depth':3,\n",
    "    'n_estimator':3,\n",
    "    'feature_select':'sqrt',\n",
    "    'learning_rate': 0.1,\n",
    "    'reg_lambda':0.3,\n",
    "    'min_sample': 5,\n",
    "    'imbalanced_weight':True, # \n",
    "    'switch_turn':0.5,\n",
    "}"
   ]
  },
  {
   "cell_type": "code",
   "execution_count": 8,
   "id": "2ce45668-da2a-4c76-b22a-8f7289a4a962",
   "metadata": {},
   "outputs": [
    {
     "data": {
      "text/plain": [
       "array([[76,  1],\n",
       "       [ 2,  5]])"
      ]
     },
     "execution_count": 8,
     "metadata": {},
     "output_type": "execute_result"
    }
   ],
   "source": [
    "model = ixgb.InfluenceXgBoost(**config)\n",
    "model.fit(x_train.values,y_train.values)\n",
    "predict_label = model.predict(x_test.values)\n",
    "\n",
    "confusion_matrix(y_true=y_test, y_pred=predict_label)"
   ]
  },
  {
   "cell_type": "code",
   "execution_count": null,
   "id": "6257c1ba-80f0-4da9-bc66-d82198454c1e",
   "metadata": {},
   "outputs": [],
   "source": []
  },
  {
   "cell_type": "code",
   "execution_count": null,
   "id": "c7545985-df14-4f3b-bc03-524d28ff57b3",
   "metadata": {},
   "outputs": [],
   "source": []
  },
  {
   "cell_type": "code",
   "execution_count": null,
   "id": "e562f869-0bf8-42c0-b0b8-2b478274d568",
   "metadata": {},
   "outputs": [],
   "source": []
  }
 ],
 "metadata": {
  "kernelspec": {
   "display_name": "Python 3 (ipykernel)",
   "language": "python",
   "name": "python3"
  },
  "language_info": {
   "codemirror_mode": {
    "name": "ipython",
    "version": 3
   },
   "file_extension": ".py",
   "mimetype": "text/x-python",
   "name": "python",
   "nbconvert_exporter": "python",
   "pygments_lexer": "ipython3",
   "version": "3.9.12"
  }
 },
 "nbformat": 4,
 "nbformat_minor": 5
}
